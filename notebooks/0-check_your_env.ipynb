{
 "cells": [
  {
   "cell_type": "markdown",
   "metadata": {},
   "source": [
    "# Checking your setup\n",
    "Run through this notebook to make sure your environment is properly setup. Be sure to launch Jupyter from inside the virtual environment."
   ]
  },
  {
   "cell_type": "code",
   "execution_count": 1,
   "metadata": {},
   "outputs": [
    {
     "name": "stdout",
     "output_type": "stream",
     "text": [
      "Using Python in D:\\anaconda3\\envs\\pandas_workshop:\n",
      "\u001b[42m[ OK ]\u001b[0m Python is version 3.10.2 | packaged by conda-forge | (main, Mar  8 2022, 15:52:24) [MSC v.1929 64 bit (AMD64)]\n",
      "\n",
      "\u001b[42m[ OK ]\u001b[0m jupyterlab\n",
      "\u001b[42m[ OK ]\u001b[0m matplotlib\n",
      "\u001b[42m[ OK ]\u001b[0m numpy\n",
      "\u001b[42m[ OK ]\u001b[0m pandas\n",
      "\u001b[42m[ OK ]\u001b[0m requests\n",
      "\u001b[42m[ OK ]\u001b[0m scipy\n",
      "\u001b[42m[ OK ]\u001b[0m seaborn\n"
     ]
    }
   ],
   "source": [
    "from utils import run_env_check\n",
    "run_env_check()"
   ]
  },
  {
   "cell_type": "markdown",
   "metadata": {},
   "source": [
    "*Note: Adapted from Andreas Mueller's [`check_env.ipynb` notebook](https://github.com/amueller/ml-workshop-1-of-4/blob/master/check_env.ipynb).*"
   ]
  },
  {
   "cell_type": "code",
   "execution_count": 2,
   "metadata": {},
   "outputs": [
    {
     "data": {
      "text/plain": [
       "'Hello!'"
      ]
     },
     "execution_count": 2,
     "metadata": {},
     "output_type": "execute_result"
    }
   ],
   "source": [
    "\"Hello!\""
   ]
  },
  {
   "cell_type": "code",
   "execution_count": null,
   "metadata": {},
   "outputs": [],
   "source": []
  }
 ],
 "metadata": {
  "kernelspec": {
   "display_name": "Python 3 (ipykernel)",
   "language": "python",
   "name": "python3"
  },
  "language_info": {
   "codemirror_mode": {
    "name": "ipython",
    "version": 3
   },
   "file_extension": ".py",
   "mimetype": "text/x-python",
   "name": "python",
   "nbconvert_exporter": "python",
   "pygments_lexer": "ipython3",
   "version": "3.10.2"
  }
 },
 "nbformat": 4,
 "nbformat_minor": 4
}
